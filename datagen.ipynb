{
 "cells": [
  {
   "cell_type": "code",
   "execution_count": 309,
   "metadata": {
    "collapsed": false
   },
   "outputs": [],
   "source": [
    "with open(\"./datagen.py\") as f:\n",
    "    code = compile(f.read(),\"./datagen.py\", mode='exec')\n",
    "    exec(code)"
   ]
  },
  {
   "cell_type": "code",
   "execution_count": 294,
   "metadata": {
    "collapsed": false
   },
   "outputs": [
    {
     "data": {
      "image/png": "[encoded data removed]",
      "text/plain": [
       "<IPython.core.display.Image object>"
      ]
     },
     "execution_count": 294,
     "metadata": {},
     "output_type": "execute_result"
    }
   ],
   "source": [
    "import matplotlib.image as mpimg\n",
    "import numpy as np\n",
    "from IPython.display import Image, HTML, display\n",
    "Image(filename='./font-size21.png')"
   ]
  },
  {
   "cell_type": "code",
   "execution_count": 310,
   "metadata": {
    "collapsed": false
   },
   "outputs": [
    {
     "data": {
      "text/plain": [
       "0"
      ]
     },
     "execution_count": 310,
     "metadata": {},
     "output_type": "execute_result"
    }
   ],
   "source": [
    "data_path = \"./GDATA/\"\n",
    "\n",
    "font = \"lmss\"\n",
    "fontsize = \"tiny\"\n",
    "fontweight = \"regular\"\n",
    "\n",
    "write_metadata(generate_tex(fontface=font, \n",
    "             fontsize=fontsize, \n",
    "             fontweight=fontweight, \n",
    "             randomize=False, \n",
    "             fontstring=\"\\\\bfseries\\\\sffamily\"))\n",
    "\n",
    "subprocess.call(shlex.split(\"pdflatex -output-directory \" + data_path + \" \" + data_path + font + \".tex\"))"
   ]
  },
  {
   "cell_type": "code",
   "execution_count": 217,
   "metadata": {
    "collapsed": false
   },
   "outputs": [
    {
     "data": {
      "text/plain": [
       "225.0"
      ]
     },
     "execution_count": 217,
     "metadata": {},
     "output_type": "execute_result"
    }
   ],
   "source": [
    "1.5*150"
   ]
  },
  {
   "cell_type": "code",
   "execution_count": 92,
   "metadata": {
    "collapsed": false
   },
   "outputs": [],
   "source": [
    "write_metadata(\"./lmss.pdf.meta\", \"./lmss.pdf\")\n"
   ]
  },
  {
   "cell_type": "code",
   "execution_count": 1022,
   "metadata": {
    "collapsed": false
   },
   "outputs": [
    {
     "name": "stdout",
     "output_type": "stream",
     "text": [
      "['oööÖ aääÄ uüüÜ\\n', 'oööÖ aääÄ uüüÜ\\n', 'oööÖ aääÄ uüüÜ\\n', 'oööÖ aääÄ uüüÜ\\n', 'oööÖ aääÄ uüüÜ\\n', 'oööÖ aääÄ uüüÜ\\n', '\\n', 'oööÖ aääÄ uüüÜ\\n', 'oööÖ aääÄ uüüÜ\\n', 'oööÖ aääÄ uüüÜ\\n', 'oööÖ aääÄ uüüÜ\\n', 'oööÖ aääÄ uüüÜ\\n', 'oööÖ aääÄ uüüÜ\\n', 'oööÖ aääÄ uüüÜ\\n', 'oööÖ aääÄ uüüÜ\\n', 'oööÖ aääÄ uüüÜ\\n', 'oööÖ aääÄ uüüÜ\\n', 'oööÖ aääÄ uüüÜ\\n', 'oööÖ aääÄ uüüÜ\\n', 'Die aufgeführten Dienstleistungen haben Sie gemä) unserer A0GB erhalten\\n', '\\n']\n"
     ]
    }
   ],
   "source": [
    "import unicodedata\n",
    "\n",
    "\n",
    "def normalize_utf8(norm='NFC', data='./'):\n",
    "    with open(data, \"r\") as f:\n",
    "        l = f.readlines()\n",
    "        l = [unicodedata.normalize(norm, s) for s in l]\n",
    "    with open(data, 'w') as f:\n",
    "        [f.write(s) for s in l]\n",
    "        \n",
    "normalize_utf8(\"NFC\",\"./umlauts.txt\")"
   ]
  },
  {
   "cell_type": "code",
   "execution_count": 103,
   "metadata": {
    "collapsed": false
   },
   "outputs": [],
   "source": [
    "import re"
   ]
  },
  {
   "cell_type": "code",
   "execution_count": 108,
   "metadata": {
    "collapsed": false
   },
   "outputs": [
    {
     "data": {
      "text/plain": [
       "False"
      ]
     },
     "execution_count": 108,
     "metadata": {},
     "output_type": "execute_result"
    }
   ],
   "source": [
    "\"dog\" == \"dog \""
   ]
  },
  {
   "cell_type": "code",
   "execution_count": null,
   "metadata": {
    "collapsed": true
   },
   "outputs": [],
   "source": []
  }
 ],
 "metadata": {
  "anaconda-cloud": {},
  "kernelspec": {
   "display_name": "Python [conda root]",
   "language": "python",
   "name": "conda-root-py"
  },
  "language_info": {
   "codemirror_mode": {
    "name": "ipython",
    "version": 3
   },
   "file_extension": ".py",
   "mimetype": "text/x-python",
   "name": "python",
   "nbconvert_exporter": "python",
   "pygments_lexer": "ipython3",
   "version": "3.5.2"
  }
 },
 "nbformat": 4,
 "nbformat_minor": 1
}
